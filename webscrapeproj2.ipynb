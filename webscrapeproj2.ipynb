{
 "cells": [
  {
   "cell_type": "code",
   "execution_count": 15,
   "id": "a4419b29-a06f-49e6-bfc1-6c32c67c5403",
   "metadata": {},
   "outputs": [],
   "source": [
    "import requests\n",
    "from bs4 import BeautifulSoup as bs\n",
    "import pandas as pd\n",
    "import time"
   ]
  },
  {
   "cell_type": "code",
   "execution_count": 16,
   "id": "3aa69ebc-55a5-45fe-9a77-4f6b71edda16",
   "metadata": {},
   "outputs": [
    {
     "name": "stdout",
     "output_type": "stream",
     "text": [
      "Oops! Received status code 403\n"
     ]
    }
   ],
   "source": [
    "url='https://www.espn.com/nba/stats/player'\n",
    "response = requests.get(url)\n",
    "status = response.status_code\n",
    "if status == 200:\n",
    "    page = response.text\n",
    "    soup = bs(page)\n",
    "else:\n",
    "    print(f\"Oops! Received status code {status}\")"
   ]
  },
  {
   "cell_type": "code",
   "execution_count": 17,
   "id": "0dbfd6b0-38f5-4436-99b6-c8f96c6d910a",
   "metadata": {},
   "outputs": [
    {
     "ename": "NameError",
     "evalue": "name 'soup' is not defined",
     "output_type": "error",
     "traceback": [
      "\u001b[0;31m---------------------------------------------------------------------------\u001b[0m",
      "\u001b[0;31mNameError\u001b[0m                                 Traceback (most recent call last)",
      "Cell \u001b[0;32mIn[17], line 1\u001b[0m\n\u001b[0;32m----> 1\u001b[0m \u001b[38;5;28mprint\u001b[39m(soup\u001b[38;5;241m.\u001b[39mprettify())\n\u001b[1;32m      2\u001b[0m \u001b[38;5;28mtype\u001b[39m(soup)\n",
      "\u001b[0;31mNameError\u001b[0m: name 'soup' is not defined"
     ]
    }
   ],
   "source": [
    "print(soup.prettify())\n",
    "type(soup)"
   ]
  },
  {
   "cell_type": "code",
   "execution_count": 12,
   "id": "9703ca9d-a1d8-4510-b8ce-6ebb5b8f5d99",
   "metadata": {},
   "outputs": [
    {
     "ename": "NameError",
     "evalue": "name 'soup' is not defined",
     "output_type": "error",
     "traceback": [
      "\u001b[0;31m---------------------------------------------------------------------------\u001b[0m",
      "\u001b[0;31mNameError\u001b[0m                                 Traceback (most recent call last)",
      "Cell \u001b[0;32mIn[12], line 2\u001b[0m\n\u001b[1;32m      1\u001b[0m Table__TR \u001b[38;5;241m=\u001b[39m [ ]\n\u001b[0;32m----> 2\u001b[0m Table__TD \u001b[38;5;241m=\u001b[39m soup\u001b[38;5;241m.\u001b[39mfind(class_\u001b[38;5;241m=\u001b[39m\u001b[38;5;124m'\u001b[39m\u001b[38;5;124mTable__TD\u001b[39m\u001b[38;5;124m'\u001b[39m)\u001b[38;5;241m.\u001b[39mtbody\n\u001b[1;32m      4\u001b[0m \u001b[38;5;28;01mfor\u001b[39;00m row \u001b[38;5;129;01min\u001b[39;00m Table__TR\u001b[38;5;241m.\u001b[39mfind_all(\u001b[38;5;124m'\u001b[39m\u001b[38;5;124mleaderCell__teamAbbrev\u001b[39m\u001b[38;5;124m'\u001b[39m):\n\u001b[1;32m      5\u001b[0m     teamAbbrev \u001b[38;5;241m=\u001b[39m row\u001b[38;5;241m.\u001b[39mfind(attrs\u001b[38;5;241m=\u001b[39m{\u001b[38;5;124m'\u001b[39m\u001b[38;5;124mdata-stat\u001b[39m\u001b[38;5;124m'\u001b[39m:\u001b[38;5;124m'\u001b[39m\u001b[38;5;124mleaderCell__teamAbbrev\u001b[39m\u001b[38;5;124m'\u001b[39m})\u001b[38;5;241m.\u001b[39mtext\n",
      "\u001b[0;31mNameError\u001b[0m: name 'soup' is not defined"
     ]
    }
   ],
   "source": [
    "Table__TR = [ ]\n",
    "Table__TD = soup.find(class_='Table__TD').tbody\n",
    "\n",
    "for row in Table__TR.find_all('leaderCell__teamAbbrev'):\n",
    "    teamAbbrev = row.find(attrs={'data-stat':'leaderCell__teamAbbrev'}).text\n",
    "    #find points\n",
    "    points= row.find(attrs={'data-stat':'Table__TD'}).text\n",
    "    stats_list.append({'leaderCell__teamAbbrev':player,'Table__TD':pos})\n",
    "print(stats_list)\n",
    "\n",
    "player_df = pd.DataFrame(stats_list)"
   ]
  },
  {
   "cell_type": "code",
   "execution_count": null,
   "id": "3ab232db-82db-4268-9e26-03cb69d15063",
   "metadata": {},
   "outputs": [],
   "source": [
    "def get_stats(soup):\n",
    "    teamAbbrev = [ ]\n",
    "    stats_list = soup.find(class_='Table__TD').tbody\n",
    "    for row in Table__TD.find_all('.'):   #to find decimal in points\n",
    "        points = row.find(attrs={'data-stat':'Table__TD'}).text\n",
    "        teamAbbrev= row.find(attrs={'data-stat':'leaderCell__teamAbbrev'}).text\n",
    "        stats_list.append({'points':Table__TD,'teamAbbrev':leaderCell__teamAbbrev})\n",
    "    return(stats_list)"
   ]
  },
  {
   "cell_type": "code",
   "execution_count": 18,
   "id": "a39ed67c-bd1e-4385-89a2-196318f0ba82",
   "metadata": {},
   "outputs": [],
   "source": [
    "def get_web_page(url):\n",
    "    response = requests.get(url)\n",
    "    status = response.status_code\n",
    "    if status == 200:\n",
    "        return response.text\n",
    "    else:\n",
    "        print(f\"Oops! Received status code {status}\")\n",
    "        return \"\""
   ]
  },
  {
   "cell_type": "code",
   "execution_count": null,
   "id": "25ac405a-b58f-4a42-a5f2-491faff06fa8",
   "metadata": {},
   "outputs": [],
   "source": [
    "url_start='https://www.espn.com/nba/stats'\n",
    "url_base='https://www.espn.com/nba/stats/player'\n",
    "page = get_web_page(url_start)\n",
    "soup = bs(page)\n",
    "point_leader = soup.find(id=\"https://www.espn.com/nba/stats/player\").tbody\n",
    "team_url_list = []\n",
    "for row in point_leader.find_all('tr') :\n",
    "    team_url = url_base + row.find(attrs={'data-stat':'https://www.espn.com/nba/teams'}).a['href']\n",
    "    team_url_list.append(team_url)\n",
    "team_url_list"
   ]
  },
  {
   "cell_type": "code",
   "execution_count": null,
   "id": "785a8d55-3d9f-4941-aeed-44c3fefb7072",
   "metadata": {},
   "outputs": [],
   "source": [
    "#i tried my best to use yours to help mine out because i struggled to answer the information so i relied on \n",
    "#using the web scraping example i hope that after i submit this i can get some extra help i would greatly appreciate it i apologize"
   ]
  }
 ],
 "metadata": {
  "kernelspec": {
   "display_name": "Python 3 (ipykernel)",
   "language": "python",
   "name": "python3"
  },
  "language_info": {
   "codemirror_mode": {
    "name": "ipython",
    "version": 3
   },
   "file_extension": ".py",
   "mimetype": "text/x-python",
   "name": "python",
   "nbconvert_exporter": "python",
   "pygments_lexer": "ipython3",
   "version": "3.11.7"
  }
 },
 "nbformat": 4,
 "nbformat_minor": 5
}
